{
 "cells": [
  {
   "cell_type": "code",
   "execution_count": null,
   "metadata": {},
   "outputs": [],
   "source": [
    "%pip install langkit"
   ]
  },
  {
   "cell_type": "code",
   "execution_count": null,
   "metadata": {},
   "outputs": [],
   "source": [
    "from whylogs.experimental.core.metrics.udf_metric import udf_metric_schema\n",
    "import whylogs as why\n",
    "from langkit.sentiment import *\n",
    "from langkit.textstat import *\n",
    "\n",
    "text_schema=udf_metric_schema()\n",
    "results = why.log({\"prompt\": \"hello!\", \"response\": \"world!\"}, schema=text_schema)"
   ]
  }
 ],
 "metadata": {
  "kernelspec": {
   "display_name": "whylabs-textmetricstoolkit-EeFODeF5-py3.8",
   "language": "python",
   "name": "python3"
  },
  "language_info": {
   "codemirror_mode": {
    "name": "ipython",
    "version": 3
   },
   "file_extension": ".py",
   "mimetype": "text/x-python",
   "name": "python",
   "nbconvert_exporter": "python",
   "pygments_lexer": "ipython3",
   "version": "3.8.10"
  },
  "orig_nbformat": 4
 },
 "nbformat": 4,
 "nbformat_minor": 2
}
