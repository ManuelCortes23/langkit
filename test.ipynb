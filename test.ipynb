{
 "cells": [
  {
   "cell_type": "code",
   "execution_count": 14,
   "metadata": {},
   "outputs": [],
   "source": [
    "from transformers import pipeline\n",
    "from transformers import (\n",
    "    AutoModelForSequenceClassification,\n",
    "    AutoTokenizer,\n",
    "    TextClassificationPipeline,\n",
    ")\n",
    "\n",
    "model_path = \"cardiffnlp/twitter-roberta-base-irony\"\n",
    "\n",
    "_tokenizer = AutoTokenizer.from_pretrained(model_path)\n",
    "_model = AutoModelForSequenceClassification.from_pretrained(model_path)\n",
    "text_classification_pipeline = TextClassificationPipeline(\n",
    "    model=_model, tokenizer=_tokenizer#,  return_all_scores = True\n",
    ")\n"
   ]
  },
  {
   "cell_type": "code",
   "execution_count": 15,
   "metadata": {},
   "outputs": [],
   "source": [
    "text = \" Hi Emily, it's Natasha. How are you? I wanted to catch up and see how things are going with you.\""
   ]
  },
  {
   "cell_type": "code",
   "execution_count": 16,
   "metadata": {},
   "outputs": [],
   "source": [
    "result = text_classification_pipeline(text, top_k = None)#, truncation = True, max_length = _tokenizer.model_max_length)\n",
    "\n",
    "\n",
    "#Altenatively, we can have each emotion be a feature and return its probability, but that's a lot of features\n",
    "emotion_score = (\n",
    "        result[0][\"score\"] if result[0][\"label\"] == \"toxic\" else 1 - result[0][\"score\"]\n",
    "    )\n"
   ]
  },
  {
   "cell_type": "code",
   "execution_count": 17,
   "metadata": {},
   "outputs": [
    {
     "data": {
      "text/plain": [
       "[{'label': 'non_irony', 'score': 0.9607586860656738},\n",
       " {'label': 'irony', 'score': 0.03924126550555229}]"
      ]
     },
     "execution_count": 17,
     "metadata": {},
     "output_type": "execute_result"
    }
   ],
   "source": [
    "result"
   ]
  },
  {
   "cell_type": "code",
   "execution_count": 11,
   "metadata": {},
   "outputs": [
    {
     "data": {
      "text/plain": [
       "0.03924131393432617"
      ]
     },
     "execution_count": 11,
     "metadata": {},
     "output_type": "execute_result"
    }
   ],
   "source": [
    "emotion_score"
   ]
  },
  {
   "cell_type": "code",
   "execution_count": 13,
   "metadata": {},
   "outputs": [
    {
     "name": "stdout",
     "output_type": "stream",
     "text": [
      "[0.33217363 0.27006369 0.13681886 0.13053715 0.13040667]\n"
     ]
    }
   ],
   "source": [
    "import numpy as np\n",
    "\n",
    "input_values = [0.955, 0.748, 0.068, 0.021, 0.020]\n",
    "\n",
    "softmax_values = np.exp(input_values) / np.sum(np.exp(input_values))\n",
    "\n",
    "print(softmax_values)\n"
   ]
  },
  {
   "cell_type": "code",
   "execution_count": 18,
   "metadata": {},
   "outputs": [
    {
     "data": {
      "application/vnd.jupyter.widget-view+json": {
       "model_id": "948c83ea90c4406f9a8f204a3bb2bf19",
       "version_major": 2,
       "version_minor": 0
      },
      "text/plain": [
       "Downloading (…)lve/main/config.json: 0.00B [00:00, ?B/s]"
      ]
     },
     "metadata": {},
     "output_type": "display_data"
    },
    {
     "name": "stderr",
     "output_type": "stream",
     "text": [
      "c:\\Users\\Lenovo\\miniconda3\\envs\\gen\\lib\\site-packages\\huggingface_hub\\file_download.py:133: UserWarning: `huggingface_hub` cache-system uses symlinks by default to efficiently store duplicated files but your machine does not support them in C:\\Users\\Lenovo\\.cache\\huggingface\\hub. Caching files will still work but in a degraded version that might require more space on your disk. This warning can be disabled by setting the `HF_HUB_DISABLE_SYMLINKS_WARNING` environment variable. For more details, see https://huggingface.co/docs/huggingface_hub/how-to-cache#limitations.\n",
      "To support symlinks on Windows, you either need to activate Developer Mode or to run Python as an administrator. In order to see activate developer mode, see this article: https://docs.microsoft.com/en-us/windows/apps/get-started/enable-your-device-for-development\n",
      "  warnings.warn(message)\n"
     ]
    },
    {
     "data": {
      "application/vnd.jupyter.widget-view+json": {
       "model_id": "a95bfc0c5a214544a5bc0b9f685c2b87",
       "version_major": 2,
       "version_minor": 0
      },
      "text/plain": [
       "Downloading model.safetensors:   0%|          | 0.00/1.63G [00:00<?, ?B/s]"
      ]
     },
     "metadata": {},
     "output_type": "display_data"
    },
    {
     "data": {
      "application/vnd.jupyter.widget-view+json": {
       "model_id": "0d0af7290cab49969af9805868b208ce",
       "version_major": 2,
       "version_minor": 0
      },
      "text/plain": [
       "Downloading (…)okenizer_config.json:   0%|          | 0.00/26.0 [00:00<?, ?B/s]"
      ]
     },
     "metadata": {},
     "output_type": "display_data"
    },
    {
     "data": {
      "application/vnd.jupyter.widget-view+json": {
       "model_id": "5923f1ccffbb4ad8bd86259b74b07cb2",
       "version_major": 2,
       "version_minor": 0
      },
      "text/plain": [
       "Downloading (…)olve/main/vocab.json: 0.00B [00:00, ?B/s]"
      ]
     },
     "metadata": {},
     "output_type": "display_data"
    },
    {
     "data": {
      "application/vnd.jupyter.widget-view+json": {
       "model_id": "4020529eeb1a45f5a9382e5d328d7e84",
       "version_major": 2,
       "version_minor": 0
      },
      "text/plain": [
       "Downloading (…)olve/main/merges.txt: 0.00B [00:00, ?B/s]"
      ]
     },
     "metadata": {},
     "output_type": "display_data"
    },
    {
     "data": {
      "application/vnd.jupyter.widget-view+json": {
       "model_id": "91c9216f8c9344b3aa52d2f715410f31",
       "version_major": 2,
       "version_minor": 0
      },
      "text/plain": [
       "Downloading (…)/main/tokenizer.json: 0.00B [00:00, ?B/s]"
      ]
     },
     "metadata": {},
     "output_type": "display_data"
    }
   ],
   "source": [
    "model_path_2 = \"facebook/bart-large-mnli\"\n",
    "classifier_2 = pipeline(\"zero-shot-classification\", model=model_path_2)"
   ]
  },
  {
   "cell_type": "code",
   "execution_count": 36,
   "metadata": {},
   "outputs": [],
   "source": [
    "from dataclasses import dataclass, field\n",
    "\n",
    "topics = [\n",
    "        \"law\",\n",
    "        \"finance\",\n",
    "        \"medical\",\n",
    "        \"education\",\n",
    "        \"politics\",\n",
    "        \"support\",\n",
    "        \"Seeing someone and asking them about themselves\",\n",
    "        \"Is this conversation truly interesting\"\n",
    "    ]"
   ]
  },
  {
   "cell_type": "code",
   "execution_count": 37,
   "metadata": {},
   "outputs": [
    {
     "data": {
      "text/plain": [
       "{'sequence': \" Hi Emily, it's Natasha. How are you? I wanted to catch up and see how things are going with you.\",\n",
       " 'labels': ['Seeing someone and asking them about themselves',\n",
       "  'support',\n",
       "  'Is this conversation truly interesting',\n",
       "  'education',\n",
       "  'law',\n",
       "  'medical',\n",
       "  'finance',\n",
       "  'politics'],\n",
       " 'scores': [0.8236961364746094,\n",
       "  0.10261215269565582,\n",
       "  0.02248458005487919,\n",
       "  0.019301636144518852,\n",
       "  0.009108602069318295,\n",
       "  0.008063271641731262,\n",
       "  0.007847288623452187,\n",
       "  0.006886292714625597]}"
      ]
     },
     "execution_count": 37,
     "metadata": {},
     "output_type": "execute_result"
    }
   ],
   "source": [
    "output = classifier_2(text, topics, multi_label=False)\n",
    "\n",
    "output"
   ]
  },
  {
   "cell_type": "code",
   "execution_count": 31,
   "metadata": {},
   "outputs": [
    {
     "data": {
      "text/plain": [
       "{'sequence': \" Hi Emily, it's Natasha. How are you? I wanted to catch up and see how things are going with you.\",\n",
       " 'labels': ['Seeing someone and asking them about themselves',\n",
       "  'support',\n",
       "  'education',\n",
       "  'law',\n",
       "  'medical',\n",
       "  'finance',\n",
       "  'politics'],\n",
       " 'scores': [0.8426426649093628,\n",
       "  0.10497242212295532,\n",
       "  0.019745608791708946,\n",
       "  0.009318116120994091,\n",
       "  0.008248741738498211,\n",
       "  0.008027791045606136,\n",
       "  0.007044689729809761]}"
      ]
     },
     "execution_count": 31,
     "metadata": {},
     "output_type": "execute_result"
    }
   ],
   "source": [
    "output"
   ]
  }
 ],
 "metadata": {
  "kernelspec": {
   "display_name": "dev",
   "language": "python",
   "name": "python3"
  },
  "language_info": {
   "codemirror_mode": {
    "name": "ipython",
    "version": 3
   },
   "file_extension": ".py",
   "mimetype": "text/x-python",
   "name": "python",
   "nbconvert_exporter": "python",
   "pygments_lexer": "ipython3",
   "version": "3.9.0"
  },
  "orig_nbformat": 4
 },
 "nbformat": 4,
 "nbformat_minor": 2
}
